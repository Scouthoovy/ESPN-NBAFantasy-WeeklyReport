{
  "nbformat": 4,
  "nbformat_minor": 0,
  "metadata": {
    "colab": {
      "provenance": []
    },
    "kernelspec": {
      "name": "python3",
      "display_name": "Python 3"
    },
    "language_info": {
      "name": "python"
    }
  },
  "cells": [
    {
      "cell_type": "code",
      "execution_count": null,
      "metadata": {
        "colab": {
          "base_uri": "https://localhost:8080/"
        },
        "id": "MPAoxGxzv_tf",
        "outputId": "bfd4c0ce-f147-496a-f406-24d527613fd5"
      },
      "outputs": [
        {
          "output_type": "stream",
          "name": "stdout",
          "text": [
            "Looking in indexes: https://pypi.org/simple, https://us-python.pkg.dev/colab-wheels/public/simple/\n",
            "Requirement already satisfied: espn_api in /usr/local/lib/python3.7/dist-packages (0.25.0)\n",
            "Requirement already satisfied: requests<3.0.0,>=2.0.0 in /usr/local/lib/python3.7/dist-packages (from espn_api) (2.23.0)\n",
            "Requirement already satisfied: urllib3!=1.25.0,!=1.25.1,<1.26,>=1.21.1 in /usr/local/lib/python3.7/dist-packages (from requests<3.0.0,>=2.0.0->espn_api) (1.24.3)\n",
            "Requirement already satisfied: chardet<4,>=3.0.2 in /usr/local/lib/python3.7/dist-packages (from requests<3.0.0,>=2.0.0->espn_api) (3.0.4)\n",
            "Requirement already satisfied: certifi>=2017.4.17 in /usr/local/lib/python3.7/dist-packages (from requests<3.0.0,>=2.0.0->espn_api) (2022.9.24)\n",
            "Requirement already satisfied: idna<3,>=2.5 in /usr/local/lib/python3.7/dist-packages (from requests<3.0.0,>=2.0.0->espn_api) (2.10)\n"
          ]
        }
      ],
      "source": [
        "pip install espn_api"
      ]
    },
    {
      "cell_type": "code",
      "source": [
        "# Import Basketball API and all relevant libraries\n",
        "from espn_api.basketball import League\n",
        "from espn_api.basketball import Player\n",
        "import pandas as pd\n",
        "import numpy as np\n",
        "import time\n",
        "import datetime as dt\n",
        "import math\n",
        "from dateutil import tz"
      ],
      "metadata": {
        "id": "dz2HUxO3wKrw"
      },
      "execution_count": null,
      "outputs": []
    },
    {
      "cell_type": "code",
      "source": [
        "# Setup the league variables for this year and previous year.\n",
        "leaguePreviousYear = League(league_id=1483720569, year=2022, espn_s2='AEAcEt%2BMhB7Fge2Z8ytHMzkMCzI3Pv9P2iScn2FG4%2BjItbmIma%2BKoAP32crD2jneK0ZSIpkCeuMewE2tWpBSh8V427kylczAMaNqUpWA3XlpILa8IUyjLY%2BiKLeNdEobg0TBvOfYzWIxEJYdE5%2FctLuNNvV9GVpzc4u2I6FTdEleJgkb4FLU1NGuK8CAWppO8eI0cYgIWpWfNfFHIw9NmlqFTH57vdXgYRGNq3pGJuLZxgVIq54ghOwrsynfR8uQ2yjhAwI7n74p5eqgMJ9Ifnh74mvMGOFeArbTx9KMKkYeWg%3D%3D', \n",
        "                swid='{AA6619A1-D92E-4220-BECC-9A41FA2A0B0D}')\n",
        "league = League(league_id=1483720569, year=2023, espn_s2='AEAcEt%2BMhB7Fge2Z8ytHMzkMCzI3Pv9P2iScn2FG4%2BjItbmIma%2BKoAP32crD2jneK0ZSIpkCeuMewE2tWpBSh8V427kylczAMaNqUpWA3XlpILa8IUyjLY%2BiKLeNdEobg0TBvOfYzWIxEJYdE5%2FctLuNNvV9GVpzc4u2I6FTdEleJgkb4FLU1NGuK8CAWppO8eI0cYgIWpWfNfFHIw9NmlqFTH57vdXgYRGNq3pGJuLZxgVIq54ghOwrsynfR8uQ2yjhAwI7n74p5eqgMJ9Ifnh74mvMGOFeArbTx9KMKkYeWg%3D%3D', \n",
        "                swid='{AA6619A1-D92E-4220-BECC-9A41FA2A0B0D}')"
      ],
      "metadata": {
        "id": "KYGWSHpuwKJJ"
      },
      "execution_count": null,
      "outputs": []
    },
    {
      "cell_type": "code",
      "source": [
        "## FINISHED\n",
        "#Standings\n",
        "#Last week's closest matchup\n",
        "#Best performing player of the week\n",
        "#Best performing player not on a team\n",
        "#Upcoming power matchups\n",
        "#Power matchup results from last week\n",
        "\n",
        "## NOT FINISHED\n",
        "#Best Free agent pickup"
      ],
      "metadata": {
        "id": "PUnLNorXwtUh"
      },
      "execution_count": null,
      "outputs": []
    },
    {
      "cell_type": "code",
      "source": [
        "# Helper functions\n",
        "\n",
        "#First day of NBA fantasy on ESPN begins Oct 17, 2022 (This is scoring_period=1). The first sunday (scoring_period=0) is Oct 16, 2022.\n",
        "firstSunday = dt.datetime(2022,10,16).timestamp()\n",
        "\n",
        "#Get previous week number\n",
        "def getCurrentWeekNum():\n",
        "  firstSunday = dt.datetime(2022,10,16).timestamp()\n",
        "  today = dt.datetime.today().timestamp()\n",
        "  weeks = (today - firstSunday) / 604800\n",
        "  weekNum = math.ceil(weeks)\n",
        "  return weekNum\n",
        "\n",
        "def getLastWeekNum():\n",
        "  return getCurrentWeekNum() - 1\n",
        "\n",
        "#Get scoring periods\n",
        "def getScoringPeriods(startDate):\n",
        "  startDate = (startDate / 1000) - 5*3600\n",
        "  firstSunday = dt.datetime(2022,10,16).timestamp()\n",
        "  #today = dt.datetime.today().timestamp()\n",
        "  #endPeriod = ((today - firstSunday) - 2*86400) / 86400\n",
        "  endPeriod = (dt.timedelta(weeks=getLastWeekNum())).total_seconds() / 86400\n",
        "  endPeriod = round(endPeriod) \n",
        "  startPeriod = (startDate - firstSunday) / 86400\n",
        "  startPeriod = round(startPeriod)\n",
        "\n",
        "  return startPeriod, endPeriod\n"
      ],
      "metadata": {
        "id": "e9FdKoKDxOua"
      },
      "execution_count": null,
      "outputs": []
    },
    {
      "cell_type": "code",
      "source": [
        "#Save current standings\n",
        "def saveStandings():\n",
        "  with open('/content/drive/MyDrive/Personal Projects/NBA_Fantasy/Standings - Week of {0}.txt'.format(dt.date.today()), 'w') as f:\n",
        "    for team in league.standings():\n",
        "      f.write(team.team_name)\n",
        "      f.write('\\n')\n",
        "\n",
        "#Retrieve saved standings from last week.\n",
        "def getSavedStandings():\n",
        "  with open('/content/drive/MyDrive/Personal Projects/NBA_Fantasy/Standings - Week of {0}.txt'.format(dt.date.today()-dt.timedelta(days=7)), 'r') as f:\n",
        "    standings = f.read().splitlines()\n",
        "    standings = pd.DataFrame(standings)\n",
        "    standings.index += 1\n",
        "    standings.rename(columns={0:\"Team\"}, inplace=True)\n",
        "    standings['Rank'] = standings.index\n",
        "  return standings"
      ],
      "metadata": {
        "id": "wvRd_dsMXxCg"
      },
      "execution_count": null,
      "outputs": []
    },
    {
      "cell_type": "code",
      "source": [
        "#Standings\n",
        "#MONDAY MORNING\n",
        "def getStandings():\n",
        "  standings = pd.DataFrame(league.standings())\n",
        "  standings.index += 1\n",
        "  standings.rename(columns={0:\"Team\"}, inplace=True)\n",
        "  standings['Team'] = standings.apply(lambda x: x['Team'].team_name, axis=1)\n",
        "  standings['Rank'] = standings.index\n",
        "  return standings\n",
        "\n",
        "#Last week's closest matchup\n",
        "#MONDAY MORNING\n",
        "\n",
        "def getClosestMatchup():\n",
        "  weekNum = getLastWeekNum()\n",
        "  matchups = league.box_scores(weekNum)\n",
        "\n",
        "  scoreDifferences = list(map(lambda x: abs(x.home_score - x.away_score), matchups))\n",
        "  matchupScores = zip(matchups, scoreDifferences)\n",
        "  closeMatchupScores = sorted(matchupScores, key = lambda x: x[1])\n",
        "\n",
        "  closestMatchups = [matchup for matchup in closeMatchupScores if abs(matchup[1] - closeMatchupScores[0][1]) < 30]\n",
        "\n",
        "  closestMatchupsdf = pd.DataFrame(closestMatchups)\n",
        "  closestMatchupsdf['AWAY'] = closestMatchupsdf.apply(lambda x: x[0].away_team.team_name, axis=1)\n",
        "  closestMatchupsdf['HOME'] = closestMatchupsdf.apply(lambda x: x[0].home_team.team_name, axis=1) \n",
        "  closestMatchupsdf['WINNER'] = closestMatchupsdf.apply(lambda x: x[0].away_team.team_name if x[0].winner == \"AWAY\" else x[0].home_team.team_name, axis=1)\n",
        "  closestMatchupsdf = closestMatchupsdf.rename(columns = {0: \"Boxscore Object\", 1: \"Difference\"})\n",
        "\n",
        "  return closestMatchupsdf\n",
        "\n",
        "#Best perfoming player of the week on a team\n",
        "#MONDAY MORNING\n",
        "\n",
        "def getBestPlayersInLineups():\n",
        "  teams = league.teams\n",
        "  playersOnRosters = [(player, team.team_name) for team in teams for player in team.roster]\n",
        "\n",
        "  bestPlayersInLineups = [(player[0].stats['2023_last_7']['applied_total'], player[0].name, player[1]) for player in playersOnRosters]\n",
        "  bestPlayersInLineups = sorted(bestPlayersInLineups, key = lambda x: x[0], reverse=True)\n",
        "  bestPlayersInLineups = bestPlayersInLineups[:5]\n",
        "\n",
        "  bestPlayersdf = pd.DataFrame(bestPlayersInLineups)\n",
        "  bestPlayersdf = bestPlayersdf.rename(columns={0:\"Total Score\", 1:\"Player\", 2:\"Team\"})\n",
        "\n",
        "  return bestPlayersdf\n",
        "\n",
        "#Best performing player not on a team\n",
        "#MONDAY MORNING\n",
        "def getBestFreeAgents():\n",
        "  freeAgents = league.free_agents(size=500)\n",
        "\n",
        "  bestFreeAgents = [(fa.stats['2023_last_7']['applied_total'], fa.name) for fa in freeAgents if (fa.projected_avg_points) != 0]\n",
        "  bestFreeAgents = sorted(bestFreeAgents, key = lambda x: x[0], reverse=True)\n",
        "  bestFreeAgents = bestFreeAgents[:5]\n",
        "\n",
        "  bestFreeAgentsdf = pd.DataFrame(bestFreeAgents)\n",
        "  bestFreeAgentsdf = bestFreeAgentsdf.rename(columns={0:\"Total Score\", 1:\"Player\"})\n",
        "\n",
        "  return bestFreeAgentsdf\n",
        "\n",
        "#Upcoming power matchups and previous power matchup results\n",
        "#MONDAY MORNING\n",
        "\n",
        "def rankSum(standings, matchup):\n",
        "  sum = standings[standings['Team']==matchup.home_team.team_name]['Rank'].iloc[0] + standings[standings['Team']==matchup.away_team.team_name]['Rank'].iloc[0]\n",
        "  return sum\n",
        "\n",
        "def getPowerMatchups(prev):\n",
        "  if prev == True:\n",
        "    standings = getSavedStandings()\n",
        "    weekNum = getLastWeekNum()\n",
        "  else:\n",
        "    standings = getStandings()  \n",
        "    weekNum = getCurrentWeekNum()\n",
        "  matchups = league.box_scores(weekNum)\n",
        "\n",
        "  rankSums = list(map(lambda x: rankSum(standings, x), matchups))\n",
        "  rankSums = list(enumerate(rankSums))\n",
        "  rankSums = sorted(rankSums, key = lambda x: x[1])\n",
        "  bestMatchups = [rank for rank in rankSums if rank[1]==rankSums[0][1]]\n",
        "  bestMatchups = [matchups[matchup[0]] for matchup in bestMatchups]\n",
        "\n",
        "  bestMatchupsdf = pd.DataFrame(bestMatchups)\n",
        "  bestMatchupsdf['AWAY'] = bestMatchupsdf.apply(lambda x: x[0].away_team.team_name, axis=1)\n",
        "  bestMatchupsdf['AWAY RANK'] = bestMatchupsdf.apply(lambda x: standings[standings['Team']==x[0].away_team.team_name]['Rank'].iloc[0], axis=1)\n",
        "  bestMatchupsdf['HOME'] = bestMatchupsdf.apply(lambda x: x[0].home_team.team_name, axis=1)\n",
        "  bestMatchupsdf['HOME RANK'] = bestMatchupsdf.apply(lambda x: standings[standings['Team']==x[0].home_team.team_name]['Rank'].iloc[0], axis=1) \n",
        "\n",
        "  return bestMatchupsdf"
      ],
      "metadata": {
        "id": "KuAC9dMMw8AF"
      },
      "execution_count": null,
      "outputs": []
    },
    {
      "cell_type": "code",
      "source": [
        "#Best free agent pickup\n",
        "#league.recent_activity()[0].actions[0][1]\n",
        "def getLineups():\n",
        "  teams = league.teams\n",
        "  lineup = [player for team in teams for player in team.roster]\n",
        "  return lineup\n",
        "\n",
        "def getPickups():\n",
        "  activities = league.recent_activity(msg_type = 'FA')\n",
        "  pickups = [(activity.actions[0][2], activity.actions[0][0], activity.date) for activity in activities]\n",
        "  return pickups\n",
        "\n",
        "def pickupsStillOnTeams():\n",
        "  pickups = getPickups()\n",
        "  lineups = getLineups()\n",
        "  pickupsOnTeams = [pickup for player in lineups for pickup in pickups if pickup[0]==player.name]\n",
        "  return pickupsOnTeams\n",
        "\n",
        "#date = dt.datetime.fromtimestamp(pickups[0][2] / 1000, dt.timezone(dt.timedelta(hours=-5)))\n",
        "def getPickupScores():\n",
        "  pickups = pickupsStillOnTeams()\n",
        "  pickupsTotalScore = []\n",
        "  for pickup in pickups:\n",
        "    pickup = list(pickup)\n",
        "    pickup.append(getScoringPeriods(pickup[2]))\n",
        "    totalScore = 0\n",
        "    gamesPlayed = 0\n",
        "    scoringPeriodStart = pickup[3][0]\n",
        "    scoringPeriodEnd = pickup[3][1]\n",
        "    while(scoringPeriodEnd >= scoringPeriodStart):\n",
        "      boxscores = league.box_scores(scoring_period=scoringPeriodStart, matchup_total=False)\n",
        "      for boxscore in boxscores:\n",
        "        if boxscore.away_team == pickup[1]:\n",
        "          for player in boxscore.away_lineup:\n",
        "            if (player.name == pickup[0]) == True:\n",
        "              totalScore += player.points\n",
        "              if player.points != 0:\n",
        "                gamesPlayed += 1\n",
        "        elif (boxscore.home_team == pickup[1]) == True:\n",
        "          for player in boxscore.home_lineup:\n",
        "            if player.name == pickup[0]:\n",
        "              totalScore += player.points\n",
        "              if player.points != 0:\n",
        "                gamesPlayed += 1\n",
        "      scoringPeriodStart += 1\n",
        "    pickup.append(totalScore)\n",
        "    if gamesPlayed != 0:\n",
        "      pickup.append(totalScore / gamesPlayed)\n",
        "    else:\n",
        "      pickup.append(0)\n",
        "    pickupsTotalScore.append(pickup)\n",
        "  pickupsTotalScoredf = pd.DataFrame(pickupsTotalScore)\n",
        "  pickupsTotalScoredf = pickupsTotalScoredf.rename(columns = {0:\"Player\", 1:\"Team\", 2:\"Pickup Date (Epoch Seconds UTC)\", 3:\"Scoring Period Range\", 4:\"Total Points\", 5:\"Avg Points\"})\n",
        "  pickupsTotalScoredf['period diff'] = pickupsTotalScoredf.apply(lambda x: x['Scoring Period Range'][1] - x['Scoring Period Range'][0], axis=1)\n",
        "  pickupsTotalScoredf = pickupsTotalScoredf[pickupsTotalScoredf['period diff'] >= 0]\n",
        "  pickupsTotalScoredf['Team'] = pickupsTotalScoredf.apply(lambda x: x['Team'].team_name, axis=1)\n",
        "  #pickupsTotalScoredf = pickupsTotalScoredf.drop()\n",
        "  return pickupsTotalScoredf"
      ],
      "metadata": {
        "id": "fuyMK9apxhMY"
      },
      "execution_count": null,
      "outputs": []
    },
    {
      "cell_type": "code",
      "source": [
        "#New Functions to add:\n",
        "#Underdog victory: matchup with large rank difference where lower ranked team won\n",
        "#Win Streak: Display teams that are on a 2+ win streak\n",
        "#Hospital Team Win: Teams that won with 2 or more players injured."
      ],
      "metadata": {
        "id": "B01lNbkNdZZo"
      },
      "execution_count": null,
      "outputs": []
    },
    {
      "cell_type": "code",
      "source": [
        "#THESE FUNCTIONS DO NOT WORK IN POWER BI\n",
        "def getPrevPowerMatchupResults():\n",
        "  prevStandings = getSavedStandings()\n",
        "  prevPowerMatchups = getPowerMatchups(True)\n",
        "  prevPowerMatchups['WINNER'] = prevPowerMatchups.apply(lambda x: x[0].home_team.team_name if x[0].winner == 'HOME' else x[0].away_team.team_name, axis=1)\n",
        "\n",
        "  return prevPowerMatchups\n",
        "\n",
        "#Underdog victory:\n",
        "def getUnderdogWins():\n",
        "  standings = getSavedStandings()\n",
        "  matchups = league.box_scores(getLastWeekNum())\n",
        "\n",
        "  rankSums = list(map(lambda x: rankSum(standings, x), matchups))\n",
        "  rankSums = list(enumerate(rankSums))\n",
        "  rankSums = sorted(rankSums, key = lambda x: x[1], reverse=True)\n",
        "\n",
        "  worstMatchups = rankSums[:2]\n",
        "  worstMatchups = [(matchups[matchup[0]], (standings[standings['Team']==matchups[matchup[0]].away_team.team_name]['Rank'].iloc[0],standings[standings['Team']==matchups[matchup[0]].home_team.team_name]['Rank'].iloc[0])) for matchup in worstMatchups]\n",
        "\n",
        "  underdogWins = []\n",
        "\n",
        "  for matchup in worstMatchups:\n",
        "    diff = matchup[1][1] - matchup[1][0]\n",
        "    if diff > 0 and matchup[0].winner == 'HOME':\n",
        "      underdogWins.append(matchup)\n",
        "    if diff < 0 and matchup[0].winner == 'AWAY':\n",
        "      underdogWins.append(matchup)\n",
        "\n",
        "  underdogWins = pd.DataFrame(underdogWins)\n",
        "  underdogWins['AWAY'] = underdogWins.apply(lambda x: x[0].away_team.team_name, axis=1)\n",
        "  underdogWins['AWAY RANK'] = underdogWins.apply(lambda x: standings[standings['Team']==x[0].away_team.team_name]['Rank'].iloc[0], axis=1)\n",
        "  underdogWins['HOME'] = underdogWins.apply(lambda x: x[0].home_team.team_name, axis=1)\n",
        "  underdogWins['HOME RANK'] = underdogWins.apply(lambda x: standings[standings['Team']==x[0].home_team.team_name]['Rank'].iloc[0], axis=1)\n",
        "  underdogWins['WINNER'] = underdogWins.apply(lambda x: x['AWAY'] if x[0].winner == 'AWAY' else x['HOME'], axis=1)\n",
        "  \n",
        "  return underdogWins\n",
        "  "
      ],
      "metadata": {
        "id": "i9bcWXFodsA6"
      },
      "execution_count": null,
      "outputs": []
    },
    {
      "cell_type": "code",
      "source": [
        "underdogWins = getUnderdogWins()\n",
        "prevPowerMatchupResults = getPrevPowerMatchupResults()\n",
        "prevPowerMatchupResults"
      ],
      "metadata": {
        "colab": {
          "base_uri": "https://localhost:8080/",
          "height": 81
        },
        "id": "YdNbOlBM-ykw",
        "outputId": "96cf43af-c21e-4f14-850f-411f11859aa5"
      },
      "execution_count": null,
      "outputs": [
        {
          "output_type": "execute_result",
          "data": {
            "text/plain": [
              "                                                   0                     AWAY  \\\n",
              "0  Box Score(Team(brooklyn park splashers) at Tea...  brooklyn park splashers   \n",
              "\n",
              "   AWAY RANK               HOME  HOME RANK                   WINNER  \n",
              "0          2  Team Big tings eh          3  brooklyn park splashers  "
            ],
            "text/html": [
              "\n",
              "  <div id=\"df-11e96704-b49f-4929-8005-25ba263943d7\">\n",
              "    <div class=\"colab-df-container\">\n",
              "      <div>\n",
              "<style scoped>\n",
              "    .dataframe tbody tr th:only-of-type {\n",
              "        vertical-align: middle;\n",
              "    }\n",
              "\n",
              "    .dataframe tbody tr th {\n",
              "        vertical-align: top;\n",
              "    }\n",
              "\n",
              "    .dataframe thead th {\n",
              "        text-align: right;\n",
              "    }\n",
              "</style>\n",
              "<table border=\"1\" class=\"dataframe\">\n",
              "  <thead>\n",
              "    <tr style=\"text-align: right;\">\n",
              "      <th></th>\n",
              "      <th>0</th>\n",
              "      <th>AWAY</th>\n",
              "      <th>AWAY RANK</th>\n",
              "      <th>HOME</th>\n",
              "      <th>HOME RANK</th>\n",
              "      <th>WINNER</th>\n",
              "    </tr>\n",
              "  </thead>\n",
              "  <tbody>\n",
              "    <tr>\n",
              "      <th>0</th>\n",
              "      <td>Box Score(Team(brooklyn park splashers) at Tea...</td>\n",
              "      <td>brooklyn park splashers</td>\n",
              "      <td>2</td>\n",
              "      <td>Team Big tings eh</td>\n",
              "      <td>3</td>\n",
              "      <td>brooklyn park splashers</td>\n",
              "    </tr>\n",
              "  </tbody>\n",
              "</table>\n",
              "</div>\n",
              "      <button class=\"colab-df-convert\" onclick=\"convertToInteractive('df-11e96704-b49f-4929-8005-25ba263943d7')\"\n",
              "              title=\"Convert this dataframe to an interactive table.\"\n",
              "              style=\"display:none;\">\n",
              "        \n",
              "  <svg xmlns=\"http://www.w3.org/2000/svg\" height=\"24px\"viewBox=\"0 0 24 24\"\n",
              "       width=\"24px\">\n",
              "    <path d=\"M0 0h24v24H0V0z\" fill=\"none\"/>\n",
              "    <path d=\"M18.56 5.44l.94 2.06.94-2.06 2.06-.94-2.06-.94-.94-2.06-.94 2.06-2.06.94zm-11 1L8.5 8.5l.94-2.06 2.06-.94-2.06-.94L8.5 2.5l-.94 2.06-2.06.94zm10 10l.94 2.06.94-2.06 2.06-.94-2.06-.94-.94-2.06-.94 2.06-2.06.94z\"/><path d=\"M17.41 7.96l-1.37-1.37c-.4-.4-.92-.59-1.43-.59-.52 0-1.04.2-1.43.59L10.3 9.45l-7.72 7.72c-.78.78-.78 2.05 0 2.83L4 21.41c.39.39.9.59 1.41.59.51 0 1.02-.2 1.41-.59l7.78-7.78 2.81-2.81c.8-.78.8-2.07 0-2.86zM5.41 20L4 18.59l7.72-7.72 1.47 1.35L5.41 20z\"/>\n",
              "  </svg>\n",
              "      </button>\n",
              "      \n",
              "  <style>\n",
              "    .colab-df-container {\n",
              "      display:flex;\n",
              "      flex-wrap:wrap;\n",
              "      gap: 12px;\n",
              "    }\n",
              "\n",
              "    .colab-df-convert {\n",
              "      background-color: #E8F0FE;\n",
              "      border: none;\n",
              "      border-radius: 50%;\n",
              "      cursor: pointer;\n",
              "      display: none;\n",
              "      fill: #1967D2;\n",
              "      height: 32px;\n",
              "      padding: 0 0 0 0;\n",
              "      width: 32px;\n",
              "    }\n",
              "\n",
              "    .colab-df-convert:hover {\n",
              "      background-color: #E2EBFA;\n",
              "      box-shadow: 0px 1px 2px rgba(60, 64, 67, 0.3), 0px 1px 3px 1px rgba(60, 64, 67, 0.15);\n",
              "      fill: #174EA6;\n",
              "    }\n",
              "\n",
              "    [theme=dark] .colab-df-convert {\n",
              "      background-color: #3B4455;\n",
              "      fill: #D2E3FC;\n",
              "    }\n",
              "\n",
              "    [theme=dark] .colab-df-convert:hover {\n",
              "      background-color: #434B5C;\n",
              "      box-shadow: 0px 1px 3px 1px rgba(0, 0, 0, 0.15);\n",
              "      filter: drop-shadow(0px 1px 2px rgba(0, 0, 0, 0.3));\n",
              "      fill: #FFFFFF;\n",
              "    }\n",
              "  </style>\n",
              "\n",
              "      <script>\n",
              "        const buttonEl =\n",
              "          document.querySelector('#df-11e96704-b49f-4929-8005-25ba263943d7 button.colab-df-convert');\n",
              "        buttonEl.style.display =\n",
              "          google.colab.kernel.accessAllowed ? 'block' : 'none';\n",
              "\n",
              "        async function convertToInteractive(key) {\n",
              "          const element = document.querySelector('#df-11e96704-b49f-4929-8005-25ba263943d7');\n",
              "          const dataTable =\n",
              "            await google.colab.kernel.invokeFunction('convertToInteractive',\n",
              "                                                     [key], {});\n",
              "          if (!dataTable) return;\n",
              "\n",
              "          const docLinkHtml = 'Like what you see? Visit the ' +\n",
              "            '<a target=\"_blank\" href=https://colab.research.google.com/notebooks/data_table.ipynb>data table notebook</a>'\n",
              "            + ' to learn more about interactive tables.';\n",
              "          element.innerHTML = '';\n",
              "          dataTable['output_type'] = 'display_data';\n",
              "          await google.colab.output.renderOutput(dataTable, element);\n",
              "          const docLink = document.createElement('div');\n",
              "          docLink.innerHTML = docLinkHtml;\n",
              "          element.appendChild(docLink);\n",
              "        }\n",
              "      </script>\n",
              "    </div>\n",
              "  </div>\n",
              "  "
            ]
          },
          "metadata": {},
          "execution_count": 389
        }
      ]
    },
    {
      "cell_type": "code",
      "source": [
        "getCurrentWeekNum()"
      ],
      "metadata": {
        "colab": {
          "base_uri": "https://localhost:8080/"
        },
        "id": "ImkhKokXVqay",
        "outputId": "3ac13037-7746-429d-c9e4-5652409cde75"
      },
      "execution_count": null,
      "outputs": [
        {
          "output_type": "execute_result",
          "data": {
            "text/plain": [
              "3"
            ]
          },
          "metadata": {},
          "execution_count": 382
        }
      ]
    }
  ]
}